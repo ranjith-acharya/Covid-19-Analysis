{
 "cells": [
  {
   "cell_type": "code",
   "execution_count": 1,
   "id": "b90e5026",
   "metadata": {},
   "outputs": [],
   "source": [
    "# Libraries Used\n",
    "import pandas as pd\n",
    "import numpy as np\n",
    "\n",
    "import matplotlib.pyplot as plt\n",
    "import seaborn as sea\n",
    "import plotly.express as px\n",
    "\n",
    "import warnings\n",
    "warnings.filterwarnings('ignore')\n",
    "\n",
    "%matplotlib inline"
   ]
  },
  {
   "cell_type": "code",
   "execution_count": 2,
   "id": "6388c294",
   "metadata": {},
   "outputs": [
    {
     "name": "stdout",
     "output_type": "stream",
     "text": [
      "<class 'pandas.core.frame.DataFrame'>\n",
      "RangeIndex: 98252 entries, 0 to 98251\n",
      "Data columns (total 8 columns):\n",
      " #   Column           Non-Null Count  Dtype  \n",
      "---  ------           --------------  -----  \n",
      " 0   SNo              98252 non-null  int64  \n",
      " 1   ObservationDate  98252 non-null  object \n",
      " 2   Province/State   67099 non-null  object \n",
      " 3   Country/Region   98252 non-null  object \n",
      " 4   Last Update      98252 non-null  object \n",
      " 5   Confirmed        98252 non-null  float64\n",
      " 6   Deaths           98252 non-null  float64\n",
      " 7   Recovered        98252 non-null  float64\n",
      "dtypes: float64(3), int64(1), object(4)\n",
      "memory usage: 6.0+ MB\n"
     ]
    }
   ],
   "source": [
    "# Importing and Exploring the Dataset\n",
    "data = pd.read_csv('covid_19_data.csv')\n",
    "data.info()"
   ]
  },
  {
   "cell_type": "code",
   "execution_count": 3,
   "id": "e749533e",
   "metadata": {},
   "outputs": [
    {
     "data": {
      "text/html": [
       "<div>\n",
       "<style scoped>\n",
       "    .dataframe tbody tr th:only-of-type {\n",
       "        vertical-align: middle;\n",
       "    }\n",
       "\n",
       "    .dataframe tbody tr th {\n",
       "        vertical-align: top;\n",
       "    }\n",
       "\n",
       "    .dataframe thead th {\n",
       "        text-align: right;\n",
       "    }\n",
       "</style>\n",
       "<table border=\"1\" class=\"dataframe\">\n",
       "  <thead>\n",
       "    <tr style=\"text-align: right;\">\n",
       "      <th></th>\n",
       "      <th>SNo</th>\n",
       "      <th>ObservationDate</th>\n",
       "      <th>Province/State</th>\n",
       "      <th>Country/Region</th>\n",
       "      <th>Last Update</th>\n",
       "      <th>Confirmed</th>\n",
       "      <th>Deaths</th>\n",
       "      <th>Recovered</th>\n",
       "    </tr>\n",
       "  </thead>\n",
       "  <tbody>\n",
       "    <tr>\n",
       "      <th>15926</th>\n",
       "      <td>15927</td>\n",
       "      <td>04/17/2020</td>\n",
       "      <td>NaN</td>\n",
       "      <td>Sweden</td>\n",
       "      <td>2020-04-17 23:38:48</td>\n",
       "      <td>13216.0</td>\n",
       "      <td>1400.0</td>\n",
       "      <td>550.0</td>\n",
       "    </tr>\n",
       "    <tr>\n",
       "      <th>56694</th>\n",
       "      <td>56695</td>\n",
       "      <td>07/04/2020</td>\n",
       "      <td>Risaralda</td>\n",
       "      <td>Colombia</td>\n",
       "      <td>2020-07-05 04:33:46</td>\n",
       "      <td>587.0</td>\n",
       "      <td>16.0</td>\n",
       "      <td>297.0</td>\n",
       "    </tr>\n",
       "    <tr>\n",
       "      <th>76668</th>\n",
       "      <td>76669</td>\n",
       "      <td>07/31/2020</td>\n",
       "      <td>Unknown</td>\n",
       "      <td>Netherlands</td>\n",
       "      <td>2020-08-01 04:36:27</td>\n",
       "      <td>511.0</td>\n",
       "      <td>18.0</td>\n",
       "      <td>0.0</td>\n",
       "    </tr>\n",
       "    <tr>\n",
       "      <th>42887</th>\n",
       "      <td>42888</td>\n",
       "      <td>06/15/2020</td>\n",
       "      <td>Smolensk Oblast</td>\n",
       "      <td>Russia</td>\n",
       "      <td>2020-06-16 04:33:09</td>\n",
       "      <td>3868.0</td>\n",
       "      <td>51.0</td>\n",
       "      <td>1469.0</td>\n",
       "    </tr>\n",
       "    <tr>\n",
       "      <th>61231</th>\n",
       "      <td>61232</td>\n",
       "      <td>07/11/2020</td>\n",
       "      <td>NaN</td>\n",
       "      <td>Belarus</td>\n",
       "      <td>2020-07-12 04:34:30</td>\n",
       "      <td>64767.0</td>\n",
       "      <td>459.0</td>\n",
       "      <td>54919.0</td>\n",
       "    </tr>\n",
       "  </tbody>\n",
       "</table>\n",
       "</div>"
      ],
      "text/plain": [
       "         SNo ObservationDate   Province/State Country/Region  \\\n",
       "15926  15927      04/17/2020              NaN         Sweden   \n",
       "56694  56695      07/04/2020        Risaralda       Colombia   \n",
       "76668  76669      07/31/2020          Unknown    Netherlands   \n",
       "42887  42888      06/15/2020  Smolensk Oblast         Russia   \n",
       "61231  61232      07/11/2020              NaN        Belarus   \n",
       "\n",
       "               Last Update  Confirmed  Deaths  Recovered  \n",
       "15926  2020-04-17 23:38:48    13216.0  1400.0      550.0  \n",
       "56694  2020-07-05 04:33:46      587.0    16.0      297.0  \n",
       "76668  2020-08-01 04:36:27      511.0    18.0        0.0  \n",
       "42887  2020-06-16 04:33:09     3868.0    51.0     1469.0  \n",
       "61231  2020-07-12 04:34:30    64767.0   459.0    54919.0  "
      ]
     },
     "execution_count": 3,
     "metadata": {},
     "output_type": "execute_result"
    }
   ],
   "source": [
    "# Sampling out the Data from the Dataset\n",
    "data.sample(5)"
   ]
  },
  {
   "cell_type": "code",
   "execution_count": 4,
   "id": "fa0ba6b8",
   "metadata": {},
   "outputs": [
    {
     "data": {
      "text/plain": [
       "SNo                    0\n",
       "ObservationDate        0\n",
       "Province/State     31153\n",
       "Country/Region         0\n",
       "Last Update            0\n",
       "Confirmed              0\n",
       "Deaths                 0\n",
       "Recovered              0\n",
       "dtype: int64"
      ]
     },
     "execution_count": 4,
     "metadata": {},
     "output_type": "execute_result"
    }
   ],
   "source": [
    "# Checking the Null values in the Dataset\n",
    "data.isnull().sum()"
   ]
  },
  {
   "cell_type": "code",
   "execution_count": 5,
   "id": "56abc31b",
   "metadata": {},
   "outputs": [
    {
     "data": {
      "text/plain": [
       "0    Unknown\n",
       "Name: Province/State, dtype: object"
      ]
     },
     "execution_count": 5,
     "metadata": {},
     "output_type": "execute_result"
    }
   ],
   "source": [
    "# Checking the Province/State Column\n",
    "data['Province/State'].mode()"
   ]
  },
  {
   "cell_type": "code",
   "execution_count": 6,
   "id": "743746bd",
   "metadata": {},
   "outputs": [
    {
     "data": {
      "text/html": [
       "<div>\n",
       "<style scoped>\n",
       "    .dataframe tbody tr th:only-of-type {\n",
       "        vertical-align: middle;\n",
       "    }\n",
       "\n",
       "    .dataframe tbody tr th {\n",
       "        vertical-align: top;\n",
       "    }\n",
       "\n",
       "    .dataframe thead th {\n",
       "        text-align: right;\n",
       "    }\n",
       "</style>\n",
       "<table border=\"1\" class=\"dataframe\">\n",
       "  <thead>\n",
       "    <tr style=\"text-align: right;\">\n",
       "      <th></th>\n",
       "      <th>SNo</th>\n",
       "      <th>ObservationDate</th>\n",
       "      <th>Province/State</th>\n",
       "      <th>Country/Region</th>\n",
       "      <th>Last Update</th>\n",
       "      <th>Confirmed</th>\n",
       "      <th>Deaths</th>\n",
       "      <th>Recovered</th>\n",
       "    </tr>\n",
       "  </thead>\n",
       "  <tbody>\n",
       "    <tr>\n",
       "      <th>730</th>\n",
       "      <td>731</td>\n",
       "      <td>02/04/2020</td>\n",
       "      <td>Unknown</td>\n",
       "      <td>Germany</td>\n",
       "      <td>2020-02-03T20:53:02</td>\n",
       "      <td>12.0</td>\n",
       "      <td>0.0</td>\n",
       "      <td>0.0</td>\n",
       "    </tr>\n",
       "    <tr>\n",
       "      <th>10320</th>\n",
       "      <td>10321</td>\n",
       "      <td>03/30/2020</td>\n",
       "      <td>Recovered</td>\n",
       "      <td>Canada</td>\n",
       "      <td>3/8/20 5:31</td>\n",
       "      <td>0.0</td>\n",
       "      <td>0.0</td>\n",
       "      <td>466.0</td>\n",
       "    </tr>\n",
       "    <tr>\n",
       "      <th>34170</th>\n",
       "      <td>34171</td>\n",
       "      <td>06/03/2020</td>\n",
       "      <td>Florida</td>\n",
       "      <td>US</td>\n",
       "      <td>2020-06-04 02:33:14</td>\n",
       "      <td>58764.0</td>\n",
       "      <td>2566.0</td>\n",
       "      <td>0.0</td>\n",
       "    </tr>\n",
       "    <tr>\n",
       "      <th>9200</th>\n",
       "      <td>9201</td>\n",
       "      <td>03/27/2020</td>\n",
       "      <td>Unknown</td>\n",
       "      <td>Kosovo</td>\n",
       "      <td>2020-03-27 23:27:48</td>\n",
       "      <td>86.0</td>\n",
       "      <td>1.0</td>\n",
       "      <td>1.0</td>\n",
       "    </tr>\n",
       "    <tr>\n",
       "      <th>42102</th>\n",
       "      <td>42103</td>\n",
       "      <td>06/14/2020</td>\n",
       "      <td>Queensland</td>\n",
       "      <td>Australia</td>\n",
       "      <td>2020-06-15 03:33:14</td>\n",
       "      <td>1065.0</td>\n",
       "      <td>6.0</td>\n",
       "      <td>1051.0</td>\n",
       "    </tr>\n",
       "  </tbody>\n",
       "</table>\n",
       "</div>"
      ],
      "text/plain": [
       "         SNo ObservationDate Province/State Country/Region  \\\n",
       "730      731      02/04/2020        Unknown        Germany   \n",
       "10320  10321      03/30/2020      Recovered         Canada   \n",
       "34170  34171      06/03/2020        Florida             US   \n",
       "9200    9201      03/27/2020        Unknown         Kosovo   \n",
       "42102  42103      06/14/2020     Queensland      Australia   \n",
       "\n",
       "               Last Update  Confirmed  Deaths  Recovered  \n",
       "730    2020-02-03T20:53:02       12.0     0.0        0.0  \n",
       "10320          3/8/20 5:31        0.0     0.0      466.0  \n",
       "34170  2020-06-04 02:33:14    58764.0  2566.0        0.0  \n",
       "9200   2020-03-27 23:27:48       86.0     1.0        1.0  \n",
       "42102  2020-06-15 03:33:14     1065.0     6.0     1051.0  "
      ]
     },
     "execution_count": 6,
     "metadata": {},
     "output_type": "execute_result"
    }
   ],
   "source": [
    "# Replacing the NaN value in the Province/State Column with the 'Unknown' i.e. almost 31.75% of the given dataset\n",
    "data['Province/State'] = data['Province/State'].fillna(data['Province/State'].mode()[0])\n",
    "data.sample(5)"
   ]
  },
  {
   "cell_type": "code",
   "execution_count": 7,
   "id": "165da8cf",
   "metadata": {},
   "outputs": [
    {
     "name": "stdout",
     "output_type": "stream",
     "text": [
      "<class 'pandas.core.frame.DataFrame'>\n",
      "RangeIndex: 98252 entries, 0 to 98251\n",
      "Data columns (total 8 columns):\n",
      " #   Column           Non-Null Count  Dtype         \n",
      "---  ------           --------------  -----         \n",
      " 0   SNo              98252 non-null  int64         \n",
      " 1   ObservationDate  98252 non-null  datetime64[ns]\n",
      " 2   Province/State   98252 non-null  object        \n",
      " 3   Country/Region   98252 non-null  object        \n",
      " 4   Last Update      98252 non-null  datetime64[ns]\n",
      " 5   Confirmed        98252 non-null  float64       \n",
      " 6   Deaths           98252 non-null  float64       \n",
      " 7   Recovered        98252 non-null  float64       \n",
      "dtypes: datetime64[ns](2), float64(3), int64(1), object(2)\n",
      "memory usage: 6.0+ MB\n"
     ]
    }
   ],
   "source": [
    "# Changing the data type of the 'ObservationDate and Last Update' Column\n",
    "data['ObservationDate'] = pd.to_datetime(data['ObservationDate'], errors = 'coerce', dayfirst = True)\n",
    "data['Last Update'] = pd.to_datetime(data['Last Update'], errors = 'coerce', dayfirst = True)\n",
    "data.info()"
   ]
  },
  {
   "cell_type": "code",
   "execution_count": 8,
   "id": "1474bd41",
   "metadata": {},
   "outputs": [
    {
     "data": {
      "text/html": [
       "<div>\n",
       "<style scoped>\n",
       "    .dataframe tbody tr th:only-of-type {\n",
       "        vertical-align: middle;\n",
       "    }\n",
       "\n",
       "    .dataframe tbody tr th {\n",
       "        vertical-align: top;\n",
       "    }\n",
       "\n",
       "    .dataframe thead th {\n",
       "        text-align: right;\n",
       "    }\n",
       "</style>\n",
       "<table border=\"1\" class=\"dataframe\">\n",
       "  <thead>\n",
       "    <tr style=\"text-align: right;\">\n",
       "      <th></th>\n",
       "      <th>SNo</th>\n",
       "      <th>ObservationDate</th>\n",
       "      <th>Province/State</th>\n",
       "      <th>Country/Region</th>\n",
       "      <th>Last Update</th>\n",
       "      <th>Confirmed</th>\n",
       "      <th>Deaths</th>\n",
       "      <th>Recovered</th>\n",
       "    </tr>\n",
       "  </thead>\n",
       "  <tbody>\n",
       "    <tr>\n",
       "      <th>16737</th>\n",
       "      <td>16738</td>\n",
       "      <td>2020-04-20</td>\n",
       "      <td>Unknown</td>\n",
       "      <td>Austria</td>\n",
       "      <td>2020-04-20 23:44:50</td>\n",
       "      <td>14795.0</td>\n",
       "      <td>470.0</td>\n",
       "      <td>10631.0</td>\n",
       "    </tr>\n",
       "    <tr>\n",
       "      <th>69926</th>\n",
       "      <td>69927</td>\n",
       "      <td>2020-07-22</td>\n",
       "      <td>Sichuan</td>\n",
       "      <td>Mainland China</td>\n",
       "      <td>2020-07-23 05:15:04</td>\n",
       "      <td>603.0</td>\n",
       "      <td>3.0</td>\n",
       "      <td>594.0</td>\n",
       "    </tr>\n",
       "    <tr>\n",
       "      <th>97090</th>\n",
       "      <td>97091</td>\n",
       "      <td>2020-08-28</td>\n",
       "      <td>Gifu</td>\n",
       "      <td>Japan</td>\n",
       "      <td>2020-08-29 04:28:19</td>\n",
       "      <td>551.0</td>\n",
       "      <td>9.0</td>\n",
       "      <td>499.0</td>\n",
       "    </tr>\n",
       "    <tr>\n",
       "      <th>50816</th>\n",
       "      <td>50817</td>\n",
       "      <td>2020-06-26</td>\n",
       "      <td>Oregon</td>\n",
       "      <td>US</td>\n",
       "      <td>2020-06-27 04:33:35</td>\n",
       "      <td>7818.0</td>\n",
       "      <td>202.0</td>\n",
       "      <td>0.0</td>\n",
       "    </tr>\n",
       "    <tr>\n",
       "      <th>54347</th>\n",
       "      <td>54348</td>\n",
       "      <td>2020-01-07</td>\n",
       "      <td>La Libertad</td>\n",
       "      <td>Peru</td>\n",
       "      <td>2020-07-02 04:33:46</td>\n",
       "      <td>10148.0</td>\n",
       "      <td>598.0</td>\n",
       "      <td>0.0</td>\n",
       "    </tr>\n",
       "  </tbody>\n",
       "</table>\n",
       "</div>"
      ],
      "text/plain": [
       "         SNo ObservationDate Province/State  Country/Region  \\\n",
       "16737  16738      2020-04-20        Unknown         Austria   \n",
       "69926  69927      2020-07-22        Sichuan  Mainland China   \n",
       "97090  97091      2020-08-28           Gifu           Japan   \n",
       "50816  50817      2020-06-26         Oregon              US   \n",
       "54347  54348      2020-01-07    La Libertad            Peru   \n",
       "\n",
       "              Last Update  Confirmed  Deaths  Recovered  \n",
       "16737 2020-04-20 23:44:50    14795.0   470.0    10631.0  \n",
       "69926 2020-07-23 05:15:04      603.0     3.0      594.0  \n",
       "97090 2020-08-29 04:28:19      551.0     9.0      499.0  \n",
       "50816 2020-06-27 04:33:35     7818.0   202.0        0.0  \n",
       "54347 2020-07-02 04:33:46    10148.0   598.0        0.0  "
      ]
     },
     "execution_count": 8,
     "metadata": {},
     "output_type": "execute_result"
    }
   ],
   "source": [
    "# Exploring the DataFrame\n",
    "data.sample(5)"
   ]
  },
  {
   "cell_type": "code",
   "execution_count": 9,
   "id": "b0f48afd",
   "metadata": {},
   "outputs": [],
   "source": [
    "# Separating the Date and Hour from 'Last Update' Column into 2 separate column in the DataFrame\n",
    "data['Last Update_Date'] = data['Last Update'].dt.date\n",
    "data['Last Update_Hour'] = data['Last Update'].dt.hour\n",
    "data['Last Update_Date'] = pd.to_datetime(data['Last Update_Date'], errors = 'coerce', dayfirst = True)"
   ]
  },
  {
   "cell_type": "code",
   "execution_count": 10,
   "id": "608036e3",
   "metadata": {},
   "outputs": [
    {
     "data": {
      "text/html": [
       "<div>\n",
       "<style scoped>\n",
       "    .dataframe tbody tr th:only-of-type {\n",
       "        vertical-align: middle;\n",
       "    }\n",
       "\n",
       "    .dataframe tbody tr th {\n",
       "        vertical-align: top;\n",
       "    }\n",
       "\n",
       "    .dataframe thead th {\n",
       "        text-align: right;\n",
       "    }\n",
       "</style>\n",
       "<table border=\"1\" class=\"dataframe\">\n",
       "  <thead>\n",
       "    <tr style=\"text-align: right;\">\n",
       "      <th></th>\n",
       "      <th>SNo</th>\n",
       "      <th>ObservationDate</th>\n",
       "      <th>Province/State</th>\n",
       "      <th>Country/Region</th>\n",
       "      <th>Last Update</th>\n",
       "      <th>Confirmed</th>\n",
       "      <th>Deaths</th>\n",
       "      <th>Recovered</th>\n",
       "      <th>Last Update_Date</th>\n",
       "      <th>Last Update_Hour</th>\n",
       "    </tr>\n",
       "  </thead>\n",
       "  <tbody>\n",
       "    <tr>\n",
       "      <th>0</th>\n",
       "      <td>1</td>\n",
       "      <td>2020-01-22</td>\n",
       "      <td>Anhui</td>\n",
       "      <td>Mainland China</td>\n",
       "      <td>2020-01-22 17:00:00</td>\n",
       "      <td>1.0</td>\n",
       "      <td>0.0</td>\n",
       "      <td>0.0</td>\n",
       "      <td>2020-01-22</td>\n",
       "      <td>17</td>\n",
       "    </tr>\n",
       "    <tr>\n",
       "      <th>1</th>\n",
       "      <td>2</td>\n",
       "      <td>2020-01-22</td>\n",
       "      <td>Beijing</td>\n",
       "      <td>Mainland China</td>\n",
       "      <td>2020-01-22 17:00:00</td>\n",
       "      <td>14.0</td>\n",
       "      <td>0.0</td>\n",
       "      <td>0.0</td>\n",
       "      <td>2020-01-22</td>\n",
       "      <td>17</td>\n",
       "    </tr>\n",
       "    <tr>\n",
       "      <th>2</th>\n",
       "      <td>3</td>\n",
       "      <td>2020-01-22</td>\n",
       "      <td>Chongqing</td>\n",
       "      <td>Mainland China</td>\n",
       "      <td>2020-01-22 17:00:00</td>\n",
       "      <td>6.0</td>\n",
       "      <td>0.0</td>\n",
       "      <td>0.0</td>\n",
       "      <td>2020-01-22</td>\n",
       "      <td>17</td>\n",
       "    </tr>\n",
       "    <tr>\n",
       "      <th>3</th>\n",
       "      <td>4</td>\n",
       "      <td>2020-01-22</td>\n",
       "      <td>Fujian</td>\n",
       "      <td>Mainland China</td>\n",
       "      <td>2020-01-22 17:00:00</td>\n",
       "      <td>1.0</td>\n",
       "      <td>0.0</td>\n",
       "      <td>0.0</td>\n",
       "      <td>2020-01-22</td>\n",
       "      <td>17</td>\n",
       "    </tr>\n",
       "    <tr>\n",
       "      <th>4</th>\n",
       "      <td>5</td>\n",
       "      <td>2020-01-22</td>\n",
       "      <td>Gansu</td>\n",
       "      <td>Mainland China</td>\n",
       "      <td>2020-01-22 17:00:00</td>\n",
       "      <td>0.0</td>\n",
       "      <td>0.0</td>\n",
       "      <td>0.0</td>\n",
       "      <td>2020-01-22</td>\n",
       "      <td>17</td>\n",
       "    </tr>\n",
       "  </tbody>\n",
       "</table>\n",
       "</div>"
      ],
      "text/plain": [
       "   SNo ObservationDate Province/State  Country/Region         Last Update  \\\n",
       "0    1      2020-01-22          Anhui  Mainland China 2020-01-22 17:00:00   \n",
       "1    2      2020-01-22        Beijing  Mainland China 2020-01-22 17:00:00   \n",
       "2    3      2020-01-22      Chongqing  Mainland China 2020-01-22 17:00:00   \n",
       "3    4      2020-01-22         Fujian  Mainland China 2020-01-22 17:00:00   \n",
       "4    5      2020-01-22          Gansu  Mainland China 2020-01-22 17:00:00   \n",
       "\n",
       "   Confirmed  Deaths  Recovered Last Update_Date  Last Update_Hour  \n",
       "0        1.0     0.0        0.0       2020-01-22                17  \n",
       "1       14.0     0.0        0.0       2020-01-22                17  \n",
       "2        6.0     0.0        0.0       2020-01-22                17  \n",
       "3        1.0     0.0        0.0       2020-01-22                17  \n",
       "4        0.0     0.0        0.0       2020-01-22                17  "
      ]
     },
     "execution_count": 10,
     "metadata": {},
     "output_type": "execute_result"
    }
   ],
   "source": [
    "data.head(5)"
   ]
  },
  {
   "cell_type": "code",
   "execution_count": 11,
   "id": "87a40d16",
   "metadata": {},
   "outputs": [
    {
     "name": "stdout",
     "output_type": "stream",
     "text": [
      "There are 223 Countries with Disease Spread\n"
     ]
    }
   ],
   "source": [
    "# Total no. of Countries with Disease Spread\n",
    "print('There are',data['Country/Region'].value_counts().count(),'Countries with Disease Spread')"
   ]
  },
  {
   "cell_type": "code",
   "execution_count": 12,
   "id": "69b0f241",
   "metadata": {},
   "outputs": [
    {
     "name": "stdout",
     "output_type": "stream",
     "text": [
      "There are 1517276871.0 Confirmed Cases around the World\n",
      "There are 824611490.0 Recovered Cases around the World\n",
      "There are 68039737.0 Death Cases around the World\n"
     ]
    }
   ],
   "source": [
    "# Total no. of Confirmed, Recovered, Deaths Cases around the world\n",
    "print('There are',data['Confirmed'].sum(),'Confirmed Cases around the World')\n",
    "print('There are',data['Recovered'].sum(),'Recovered Cases around the World')\n",
    "print('There are',data['Deaths'].sum(),'Death Cases around the World')"
   ]
  },
  {
   "cell_type": "code",
   "execution_count": 13,
   "id": "d6cae18c",
   "metadata": {},
   "outputs": [
    {
     "name": "stdout",
     "output_type": "stream",
     "text": [
      "There are 624625644.0 Active Cases around the World\n",
      "There are 892651227.0 Closed Cases around the World\n"
     ]
    }
   ],
   "source": [
    "# Total no. of Active and Closed Cases around the world\n",
    "# active_cases = confirmed_cases - recovered_cases - death_cases\n",
    "# closed_cases = recovered_cases + death_cases\n",
    "active_cases = data['Confirmed'].sum() - data['Recovered'].sum() - data['Deaths'].sum()\n",
    "closed_cases = data['Recovered'].sum() + data['Deaths'].sum()\n",
    "\n",
    "print('There are',active_cases,'Active Cases around the World')\n",
    "print('There are',closed_cases,'Closed Cases around the World')"
   ]
  },
  {
   "cell_type": "code",
   "execution_count": 14,
   "id": "0feead00",
   "metadata": {},
   "outputs": [],
   "source": [
    "# Approx. no. of Confirmed Cases per Day around the world\n",
    "confirm_per_day = data.groupby(data['Last Update_Date'])['Confirmed'].sum()\n",
    "# confirm_per_day"
   ]
  },
  {
   "cell_type": "code",
   "execution_count": 15,
   "id": "677d09d9",
   "metadata": {},
   "outputs": [],
   "source": [
    "# Approx. no. of Recovered Cases per Day around the world\n",
    "recover_per_day = data.groupby(data['Last Update_Date'])['Recovered'].sum()\n",
    "# recover_per_day"
   ]
  },
  {
   "cell_type": "code",
   "execution_count": 16,
   "id": "61e57517",
   "metadata": {},
   "outputs": [],
   "source": [
    "# Approx. no. of Deaths Cases per Day around the world\n",
    "death_per_day = data.groupby(data['Last Update_Date'])['Deaths'].sum()\n",
    "# death_per_day"
   ]
  },
  {
   "cell_type": "code",
   "execution_count": 17,
   "id": "851f5104",
   "metadata": {
    "scrolled": false
   },
   "outputs": [
    {
     "data": {
      "text/plain": [
       "Text(0.5, 1.0, 'Approx. No. of Confirmed, Recovered, and Death Cases per Day around the World')"
      ]
     },
     "execution_count": 17,
     "metadata": {},
     "output_type": "execute_result"
    },
    {
     "data": {
      "image/png": "[encoded data removed]",
      "text/plain": [
       "<Figure size 1000x400 with 1 Axes>"
      ]
     },
     "metadata": {},
     "output_type": "display_data"
    }
   ],
   "source": [
    "# Visualizing the Approx. no. Confirmed, Recoverd, and Deaths Cases per Day around the world\n",
    "plt.figure(figsize = (10,4))\n",
    "plt.plot(confirm_per_day, color = 'Red')\n",
    "plt.plot(recover_per_day, color = 'Green')\n",
    "plt.plot(death_per_day, color = 'Black')\n",
    "plt.xlabel('Per Day')\n",
    "plt.ylabel('Cases')\n",
    "plt.legend(['Confirmed', 'Recovered', 'Death'], loc = 'best')\n",
    "plt.title('Approx. No. of Confirmed, Recovered, and Death Cases per Day around the World')"
   ]
  },
  {
   "cell_type": "code",
   "execution_count": 18,
   "id": "965f8649",
   "metadata": {},
   "outputs": [],
   "source": [
    "# Approx. no. of Confirmed cases per hour around the world\n",
    "confirm_per_hour = data.groupby(data['Last Update_Hour'])['Confirmed'].sum()\n",
    "# confirm_per_hour"
   ]
  },
  {
   "cell_type": "code",
   "execution_count": 19,
   "id": "83304ff6",
   "metadata": {},
   "outputs": [],
   "source": [
    "# Approx. no. of Recovered cases per hour around the world\n",
    "recover_per_hour = data.groupby(data['Last Update_Hour'])['Recovered'].sum()\n",
    "# recover_per_hour"
   ]
  },
  {
   "cell_type": "code",
   "execution_count": 20,
   "id": "3e813198",
   "metadata": {},
   "outputs": [],
   "source": [
    "# Approx. no. of Death cases per hour around the world\n",
    "death_per_hour = data.groupby(data['Last Update_Hour'])['Deaths'].sum()\n",
    "# death_per_hour"
   ]
  },
  {
   "cell_type": "code",
   "execution_count": 21,
   "id": "8e09cc22",
   "metadata": {},
   "outputs": [
    {
     "data": {
      "text/plain": [
       "Text(0.5, 1.0, 'Approx. No. of Confirmed, Recoverd, and Death Cases per Hour around the World')"
      ]
     },
     "execution_count": 21,
     "metadata": {},
     "output_type": "execute_result"
    },
    {
     "data": {
      "image/png": "[encoded data removed]",
      "text/plain": [
       "<Figure size 1000x400 with 1 Axes>"
      ]
     },
     "metadata": {},
     "output_type": "display_data"
    }
   ],
   "source": [
    "# Visualizing the Approx. no. Confirmed, Recoverd, and Deaths Cases per Hour around the world\n",
    "plt.figure(figsize = (10, 4))\n",
    "plt.plot(confirm_per_hour, color = 'Red')\n",
    "plt.plot(recover_per_hour, color = 'Green')\n",
    "plt.plot(death_per_hour, color = 'Black')\n",
    "plt.xlabel('Per Hour')\n",
    "plt.ylabel('Cases')\n",
    "plt.legend(['Confirmed', 'Recovered', 'Death'], loc = 'best')\n",
    "plt.title('Approx. No. of Confirmed, Recoverd, and Death Cases per Hour around the World')"
   ]
  },
  {
   "cell_type": "code",
   "execution_count": 25,
   "id": "14784357",
   "metadata": {},
   "outputs": [
    {
     "name": "stdout",
     "output_type": "stream",
     "text": [
      "There are 1208.0 confirmed cases in last 24 Hour\n"
     ]
    }
   ],
   "source": [
    "# No. of Confirmed Cases in 24 Hour\n",
    "# start_date_confirm = data.loc[(data['Last Update_Date'] == '2020-01-22')]\n",
    "# end_date_confirm = data.loc[(data['Last Update_Date'] == '2020-01-23')]\n",
    "# total_confirm_hour = start_date_confirm['Confirmed'].sum() + end_date_confirm['Confirmed'].sum()\n",
    "total_confirm_hour = data.loc[(data['Last Update_Date'] >= '2020-01-22') & (data['Last Update_Date'] <= '2020-01-23')]\n",
    "print('There are',total_confirm_hour['Confirmed'].sum(),'confirmed cases in last 24 Hour')"
   ]
  },
  {
   "cell_type": "code",
   "execution_count": 27,
   "id": "44c98ed0",
   "metadata": {},
   "outputs": [
    {
     "name": "stdout",
     "output_type": "stream",
     "text": [
      "There are 58.0 recovered cases in last 24 Hour\n"
     ]
    }
   ],
   "source": [
    "# No. of Recoverd Cases in 24 Hour\n",
    "# start_date_recover = data.loc[(data['Last Update_Date'] == '2020-01-22')]\n",
    "# end_date_recover = data.loc[(data['Last Update_Date'] == '2020-01-23')]\n",
    "# total_recover_hour = start_date_recover['Recovered'].sum() + end_date_recover['Recovered'].sum()\n",
    "total_recover_hour = data.loc[(data['Last Update_Date'] >= '2020-01-22') & (data['Last Update_Date'] <= '2020-01-23')]\n",
    "print('There are',total_recover_hour['Recovered'].sum(),'recovered cases in last 24 Hour')"
   ]
  },
  {
   "cell_type": "code",
   "execution_count": 28,
   "id": "fa105c6b",
   "metadata": {},
   "outputs": [
    {
     "name": "stdout",
     "output_type": "stream",
     "text": [
      "There are 35.0 death cases in last 24 Hour\n"
     ]
    }
   ],
   "source": [
    "# No. of Death Cases in 24 Hour\n",
    "# start_date_death = data.loc[(data['Last Update_Date'] == '2020-01-22')]\n",
    "# end_date_death = data.loc[(data['Last Update_Date'] == '2020-01-23')]\n",
    "# total_death_hour = start_date_death['Deaths'].sum() + end_date_death['Deaths'].sum()\n",
    "total_death_hour = data.loc[(data['Last Update_Date'] >= '2020-01-22') & (data['Last Update_Date'] <= '2020-01-23')]\n",
    "print('There are',total_death_hour['Deaths'].sum(),'death cases in last 24 Hour')"
   ]
  },
  {
   "cell_type": "code",
   "execution_count": 29,
   "id": "96d346ca",
   "metadata": {},
   "outputs": [
    {
     "data": {
      "text/plain": [
       "Country/Region\n",
       "Mainland China    1186.0\n",
       "Thailand             5.0\n",
       "Japan                3.0\n",
       "Macau                3.0\n",
       "Hong Kong            2.0\n",
       "South Korea          2.0\n",
       "Taiwan               2.0\n",
       "US                   2.0\n",
       "Vietnam              2.0\n",
       "Singapore            1.0\n",
       "Australia            0.0\n",
       "Brazil               0.0\n",
       "Colombia             0.0\n",
       "Malaysia             0.0\n",
       "Mexico               0.0\n",
       "Name: Confirmed, dtype: float64"
      ]
     },
     "execution_count": 29,
     "metadata": {},
     "output_type": "execute_result"
    }
   ],
   "source": [
    "# Top 15 Countries as per no. of Confirmed Cases in Last 24 Hours\n",
    "data.loc[(data['Last Update_Date'] >= '2020-01-22') & (data['Last Update_Date'] <= '2020-01-23')].groupby('Country/Region')['Confirmed'].sum().sort_values(ascending = False).head(15)"
   ]
  },
  {
   "cell_type": "code",
   "execution_count": 30,
   "id": "38ab77bf",
   "metadata": {},
   "outputs": [
    {
     "data": {
      "text/plain": [
       "Country/Region\n",
       "Mainland China    58.0\n",
       "Australia          0.0\n",
       "Brazil             0.0\n",
       "Colombia           0.0\n",
       "Hong Kong          0.0\n",
       "Japan              0.0\n",
       "Macau              0.0\n",
       "Malaysia           0.0\n",
       "Mexico             0.0\n",
       "Philippines        0.0\n",
       "Singapore          0.0\n",
       "South Korea        0.0\n",
       "Taiwan             0.0\n",
       "Thailand           0.0\n",
       "US                 0.0\n",
       "Name: Recovered, dtype: float64"
      ]
     },
     "execution_count": 30,
     "metadata": {},
     "output_type": "execute_result"
    }
   ],
   "source": [
    "# Top 15 Countries as per no. of Recovered Cases in Last 24 Hours\n",
    "data.loc[(data['Last Update_Date'] >= '2020-01-22') & (data['Last Update_Date'] <= '2020-01-23')].groupby('Country/Region')['Recovered'].sum().sort_values(ascending = False).head(15)"
   ]
  },
  {
   "cell_type": "code",
   "execution_count": 31,
   "id": "82f1c4db",
   "metadata": {},
   "outputs": [
    {
     "data": {
      "text/plain": [
       "Country/Region\n",
       "Mainland China    35.0\n",
       "Australia          0.0\n",
       "Brazil             0.0\n",
       "Colombia           0.0\n",
       "Hong Kong          0.0\n",
       "Japan              0.0\n",
       "Macau              0.0\n",
       "Malaysia           0.0\n",
       "Mexico             0.0\n",
       "Philippines        0.0\n",
       "Singapore          0.0\n",
       "South Korea        0.0\n",
       "Taiwan             0.0\n",
       "Thailand           0.0\n",
       "US                 0.0\n",
       "Name: Deaths, dtype: float64"
      ]
     },
     "execution_count": 31,
     "metadata": {},
     "output_type": "execute_result"
    }
   ],
   "source": [
    "# Top 15 Countries as per no. of Death Cases in Last 24 Hours\n",
    "data.loc[(data['Last Update_Date'] >= '2020-01-22') & (data['Last Update_Date'] <= '2020-01-23')].groupby('Country/Region')['Deaths'].sum().sort_values(ascending = False).head(15)"
   ]
  },
  {
   "cell_type": "code",
   "execution_count": 32,
   "id": "06beda48",
   "metadata": {},
   "outputs": [
    {
     "data": {
      "text/html": [
       "<div>\n",
       "<style scoped>\n",
       "    .dataframe tbody tr th:only-of-type {\n",
       "        vertical-align: middle;\n",
       "    }\n",
       "\n",
       "    .dataframe tbody tr th {\n",
       "        vertical-align: top;\n",
       "    }\n",
       "\n",
       "    .dataframe thead th {\n",
       "        text-align: right;\n",
       "    }\n",
       "</style>\n",
       "<table border=\"1\" class=\"dataframe\">\n",
       "  <thead>\n",
       "    <tr style=\"text-align: right;\">\n",
       "      <th></th>\n",
       "      <th>SNo</th>\n",
       "      <th>ObservationDate</th>\n",
       "      <th>Province/State</th>\n",
       "      <th>Country/Region</th>\n",
       "      <th>Last Update</th>\n",
       "      <th>Confirmed</th>\n",
       "      <th>Deaths</th>\n",
       "      <th>Recovered</th>\n",
       "      <th>Last Update_Date</th>\n",
       "      <th>Last Update_Hour</th>\n",
       "      <th>weekday</th>\n",
       "    </tr>\n",
       "  </thead>\n",
       "  <tbody>\n",
       "    <tr>\n",
       "      <th>84673</th>\n",
       "      <td>84674</td>\n",
       "      <td>2020-11-08</td>\n",
       "      <td>North Carolina</td>\n",
       "      <td>US</td>\n",
       "      <td>2020-08-12 04:27:29</td>\n",
       "      <td>138743.0</td>\n",
       "      <td>2238.0</td>\n",
       "      <td>0.0</td>\n",
       "      <td>2020-08-12</td>\n",
       "      <td>4</td>\n",
       "      <td>2</td>\n",
       "    </tr>\n",
       "    <tr>\n",
       "      <th>78218</th>\n",
       "      <td>78219</td>\n",
       "      <td>2020-03-08</td>\n",
       "      <td>Unknown</td>\n",
       "      <td>Austria</td>\n",
       "      <td>2020-08-04 04:41:59</td>\n",
       "      <td>21385.0</td>\n",
       "      <td>718.0</td>\n",
       "      <td>19063.0</td>\n",
       "      <td>2020-08-04</td>\n",
       "      <td>4</td>\n",
       "      <td>1</td>\n",
       "    </tr>\n",
       "    <tr>\n",
       "      <th>82222</th>\n",
       "      <td>82223</td>\n",
       "      <td>2020-08-08</td>\n",
       "      <td>Drenthe</td>\n",
       "      <td>Netherlands</td>\n",
       "      <td>2020-08-09 04:34:54</td>\n",
       "      <td>566.0</td>\n",
       "      <td>41.0</td>\n",
       "      <td>0.0</td>\n",
       "      <td>2020-08-09</td>\n",
       "      <td>4</td>\n",
       "      <td>6</td>\n",
       "    </tr>\n",
       "    <tr>\n",
       "      <th>89490</th>\n",
       "      <td>89491</td>\n",
       "      <td>2020-08-18</td>\n",
       "      <td>Unknown</td>\n",
       "      <td>South Sudan</td>\n",
       "      <td>2020-08-19 04:27:00</td>\n",
       "      <td>2490.0</td>\n",
       "      <td>47.0</td>\n",
       "      <td>1175.0</td>\n",
       "      <td>2020-08-19</td>\n",
       "      <td>4</td>\n",
       "      <td>2</td>\n",
       "    </tr>\n",
       "    <tr>\n",
       "      <th>42617</th>\n",
       "      <td>42618</td>\n",
       "      <td>2020-06-15</td>\n",
       "      <td>Hubei</td>\n",
       "      <td>Mainland China</td>\n",
       "      <td>2020-06-16 04:33:09</td>\n",
       "      <td>68135.0</td>\n",
       "      <td>4512.0</td>\n",
       "      <td>63623.0</td>\n",
       "      <td>2020-06-16</td>\n",
       "      <td>4</td>\n",
       "      <td>1</td>\n",
       "    </tr>\n",
       "  </tbody>\n",
       "</table>\n",
       "</div>"
      ],
      "text/plain": [
       "         SNo ObservationDate  Province/State  Country/Region  \\\n",
       "84673  84674      2020-11-08  North Carolina              US   \n",
       "78218  78219      2020-03-08         Unknown         Austria   \n",
       "82222  82223      2020-08-08         Drenthe     Netherlands   \n",
       "89490  89491      2020-08-18         Unknown     South Sudan   \n",
       "42617  42618      2020-06-15           Hubei  Mainland China   \n",
       "\n",
       "              Last Update  Confirmed  Deaths  Recovered Last Update_Date  \\\n",
       "84673 2020-08-12 04:27:29   138743.0  2238.0        0.0       2020-08-12   \n",
       "78218 2020-08-04 04:41:59    21385.0   718.0    19063.0       2020-08-04   \n",
       "82222 2020-08-09 04:34:54      566.0    41.0        0.0       2020-08-09   \n",
       "89490 2020-08-19 04:27:00     2490.0    47.0     1175.0       2020-08-19   \n",
       "42617 2020-06-16 04:33:09    68135.0  4512.0    63623.0       2020-06-16   \n",
       "\n",
       "       Last Update_Hour  weekday  \n",
       "84673                 4        2  \n",
       "78218                 4        1  \n",
       "82222                 4        6  \n",
       "89490                 4        2  \n",
       "42617                 4        1  "
      ]
     },
     "execution_count": 32,
     "metadata": {},
     "output_type": "execute_result"
    }
   ],
   "source": [
    "# Making a weekdays column in the DataFrame 0, 1, 2, 3, 4, 5, 6 - (Mon, Tue, Wed, Thurs, Fri, Sat, Sun)\n",
    "data['weekday'] = data['Last Update_Date'].dt.weekday\n",
    "data.sample(5)"
   ]
  },
  {
   "cell_type": "code",
   "execution_count": 33,
   "id": "a9be76c5",
   "metadata": {},
   "outputs": [
    {
     "name": "stdout",
     "output_type": "stream",
     "text": [
      "weekday\n",
      "0    16050027.0\n",
      "1    16504181.0\n",
      "2    16918477.0\n",
      "3    17463530.0\n",
      "4    18028383.0\n",
      "5    18566520.0\n",
      "6    19125691.0\n",
      "Name: Confirmed, dtype: float64\n"
     ]
    },
    {
     "data": {
      "text/plain": [
       "Text(0.5, 1.0, 'Weekly Growth of Confirmed Cases in INDIA')"
      ]
     },
     "execution_count": 33,
     "metadata": {},
     "output_type": "execute_result"
    },
    {
     "data": {
      "image/png": "[encoded data removed]",
      "text/plain": [
       "<Figure size 1000x400 with 1 Axes>"
      ]
     },
     "metadata": {},
     "output_type": "display_data"
    }
   ],
   "source": [
    "# Weekly growth of different types of cases in India (CONFIRMED)\n",
    "plt.figure(figsize = (10, 4))\n",
    "india = data.loc[data['Country/Region'] == 'India']\n",
    "print(india.groupby(data['weekday'])['Confirmed'].sum())\n",
    "plt.plot(india.groupby(data['weekday'])['Confirmed'].sum(), color = 'Red', marker = 'o')\n",
    "plt.xlabel('Weekday')\n",
    "plt.ylabel('Confirmed')\n",
    "plt.legend(['Confirmed'], loc = 'best')\n",
    "plt.title('Weekly Growth of Confirmed Cases in INDIA')"
   ]
  },
  {
   "cell_type": "code",
   "execution_count": 34,
   "id": "a705d196",
   "metadata": {},
   "outputs": [
    {
     "name": "stdout",
     "output_type": "stream",
     "text": [
      "weekday\n",
      "0    10650949.0\n",
      "1    11019865.0\n",
      "2    11360598.0\n",
      "3    11767569.0\n",
      "4    12183667.0\n",
      "5    12586618.0\n",
      "6    13016289.0\n",
      "Name: Recovered, dtype: float64\n"
     ]
    },
    {
     "data": {
      "text/plain": [
       "Text(0.5, 1.0, 'Weekly Growth of Recovered Cases in INDIA')"
      ]
     },
     "execution_count": 34,
     "metadata": {},
     "output_type": "execute_result"
    },
    {
     "data": {
      "image/png": "[encoded data removed]",
      "text/plain": [
       "<Figure size 1000x400 with 1 Axes>"
      ]
     },
     "metadata": {},
     "output_type": "display_data"
    }
   ],
   "source": [
    "# Weekly growth of different types of cases in India (RECOVERED)\n",
    "plt.figure(figsize = (10, 4))\n",
    "india = data.loc[data['Country/Region'] == 'India']\n",
    "print(india.groupby(data['weekday'])['Recovered'].sum())\n",
    "plt.plot(india.groupby(data['weekday'])['Recovered'].sum(), color = 'Green', marker = 'o')\n",
    "plt.xlabel('Weekday')\n",
    "plt.ylabel('Recovered')\n",
    "plt.legend(['Recovered'], loc = 'best')\n",
    "plt.title('Weekly Growth of Recovered Cases in INDIA')"
   ]
  },
  {
   "cell_type": "code",
   "execution_count": 35,
   "id": "c542963e",
   "metadata": {
    "scrolled": false
   },
   "outputs": [
    {
     "name": "stdout",
     "output_type": "stream",
     "text": [
      "weekday\n",
      "0    358688.0\n",
      "1    367078.0\n",
      "2    376699.0\n",
      "3    385945.0\n",
      "4    396013.0\n",
      "5    404946.0\n",
      "6    414087.0\n",
      "Name: Deaths, dtype: float64\n"
     ]
    },
    {
     "data": {
      "text/plain": [
       "Text(0.5, 1.0, 'Weekly Growth of Deaths Cases in INDIA')"
      ]
     },
     "execution_count": 35,
     "metadata": {},
     "output_type": "execute_result"
    },
    {
     "data": {
      "image/png": "[encoded data removed]",
      "text/plain": [
       "<Figure size 1000x400 with 1 Axes>"
      ]
     },
     "metadata": {},
     "output_type": "display_data"
    }
   ],
   "source": [
    "# Weekly growth of different types of cases in India (DEATHS)\n",
    "plt.figure(figsize = (10, 4))\n",
    "india = data.loc[data['Country/Region'] == 'India']\n",
    "print(india.groupby(data['weekday'])['Deaths'].sum())\n",
    "plt.plot(india.groupby(data['weekday'])['Deaths'].sum(), color = 'Black', marker = 'o')\n",
    "plt.xlabel('Weekday')\n",
    "plt.ylabel('Deaths')\n",
    "plt.legend(['Deaths'], loc = 'best')\n",
    "plt.title('Weekly Growth of Deaths Cases in INDIA')"
   ]
  },
  {
   "cell_type": "code",
   "execution_count": 36,
   "id": "0c73ace6",
   "metadata": {},
   "outputs": [
    {
     "name": "stdout",
     "output_type": "stream",
     "text": [
      "The Mean of 7 Days in Confirmed, Recovered and Death Cases : 216753839.0 , 117801641.0 , 9719962.0\n"
     ]
    }
   ],
   "source": [
    "# 7 Days rolling mean of daily increase of Confirmed, Recovered and Death Cases\n",
    "week_data = data.groupby(data['weekday']).sum()\n",
    "print('The Mean of 7 Days in Confirmed, Recovered and Death Cases :',round(week_data.mean()['Confirmed'], 0),',',round(week_data.mean()['Recovered'], 0),',',round(week_data.mean()['Deaths'], 0))"
   ]
  },
  {
   "cell_type": "code",
   "execution_count": 37,
   "id": "3050d029",
   "metadata": {},
   "outputs": [
    {
     "name": "stdout",
     "output_type": "stream",
     "text": [
      "There are 17 countries with more than 100 Confirmed Cases and No Deaths\n"
     ]
    },
    {
     "data": {
      "text/html": [
       "<div>\n",
       "<style scoped>\n",
       "    .dataframe tbody tr th:only-of-type {\n",
       "        vertical-align: middle;\n",
       "    }\n",
       "\n",
       "    .dataframe tbody tr th {\n",
       "        vertical-align: top;\n",
       "    }\n",
       "\n",
       "    .dataframe thead th {\n",
       "        text-align: right;\n",
       "    }\n",
       "</style>\n",
       "<table border=\"1\" class=\"dataframe\">\n",
       "  <thead>\n",
       "    <tr style=\"text-align: right;\">\n",
       "      <th></th>\n",
       "      <th>SNo</th>\n",
       "      <th>Confirmed</th>\n",
       "      <th>Deaths</th>\n",
       "      <th>Recovered</th>\n",
       "      <th>Last Update_Hour</th>\n",
       "      <th>weekday</th>\n",
       "    </tr>\n",
       "    <tr>\n",
       "      <th>Country/Region</th>\n",
       "      <th></th>\n",
       "      <th></th>\n",
       "      <th></th>\n",
       "      <th></th>\n",
       "      <th></th>\n",
       "      <th></th>\n",
       "    </tr>\n",
       "  </thead>\n",
       "  <tbody>\n",
       "    <tr>\n",
       "      <th>Bhutan</th>\n",
       "      <td>7251693</td>\n",
       "      <td>9320.0</td>\n",
       "      <td>0.0</td>\n",
       "      <td>6199.0</td>\n",
       "      <td>1336</td>\n",
       "      <td>532</td>\n",
       "    </tr>\n",
       "    <tr>\n",
       "      <th>Cambodia</th>\n",
       "      <td>7316256</td>\n",
       "      <td>25630.0</td>\n",
       "      <td>0.0</td>\n",
       "      <td>21357.0</td>\n",
       "      <td>1572</td>\n",
       "      <td>628</td>\n",
       "    </tr>\n",
       "    <tr>\n",
       "      <th>Dominica</th>\n",
       "      <td>7167098</td>\n",
       "      <td>2667.0</td>\n",
       "      <td>0.0</td>\n",
       "      <td>2253.0</td>\n",
       "      <td>1051</td>\n",
       "      <td>470</td>\n",
       "    </tr>\n",
       "    <tr>\n",
       "      <th>Eritrea</th>\n",
       "      <td>7175654</td>\n",
       "      <td>21415.0</td>\n",
       "      <td>0.0</td>\n",
       "      <td>13921.0</td>\n",
       "      <td>1072</td>\n",
       "      <td>475</td>\n",
       "    </tr>\n",
       "    <tr>\n",
       "      <th>French Guiana</th>\n",
       "      <td>78532</td>\n",
       "      <td>117.0</td>\n",
       "      <td>0.0</td>\n",
       "      <td>6.0</td>\n",
       "      <td>128</td>\n",
       "      <td>46</td>\n",
       "    </tr>\n",
       "    <tr>\n",
       "      <th>Grenada</th>\n",
       "      <td>7170048</td>\n",
       "      <td>3256.0</td>\n",
       "      <td>0.0</td>\n",
       "      <td>2620.0</td>\n",
       "      <td>1051</td>\n",
       "      <td>470</td>\n",
       "    </tr>\n",
       "    <tr>\n",
       "      <th>Guadeloupe</th>\n",
       "      <td>57307</td>\n",
       "      <td>187.0</td>\n",
       "      <td>0.0</td>\n",
       "      <td>0.0</td>\n",
       "      <td>110</td>\n",
       "      <td>25</td>\n",
       "    </tr>\n",
       "    <tr>\n",
       "      <th>Holy See</th>\n",
       "      <td>7243661</td>\n",
       "      <td>1748.0</td>\n",
       "      <td>0.0</td>\n",
       "      <td>1138.0</td>\n",
       "      <td>1304</td>\n",
       "      <td>507</td>\n",
       "    </tr>\n",
       "    <tr>\n",
       "      <th>Laos</th>\n",
       "      <td>7158244</td>\n",
       "      <td>2921.0</td>\n",
       "      <td>0.0</td>\n",
       "      <td>2181.0</td>\n",
       "      <td>1023</td>\n",
       "      <td>470</td>\n",
       "    </tr>\n",
       "    <tr>\n",
       "      <th>Macau</th>\n",
       "      <td>7368772</td>\n",
       "      <td>7731.0</td>\n",
       "      <td>0.0</td>\n",
       "      <td>6367.0</td>\n",
       "      <td>1769</td>\n",
       "      <td>647</td>\n",
       "    </tr>\n",
       "    <tr>\n",
       "      <th>Mongolia</th>\n",
       "      <td>7249663</td>\n",
       "      <td>26762.0</td>\n",
       "      <td>0.0</td>\n",
       "      <td>18672.0</td>\n",
       "      <td>1215</td>\n",
       "      <td>499</td>\n",
       "    </tr>\n",
       "    <tr>\n",
       "      <th>Reunion</th>\n",
       "      <td>67279</td>\n",
       "      <td>137.0</td>\n",
       "      <td>0.0</td>\n",
       "      <td>0.0</td>\n",
       "      <td>160</td>\n",
       "      <td>32</td>\n",
       "    </tr>\n",
       "    <tr>\n",
       "      <th>Saint Kitts and Nevis</th>\n",
       "      <td>7156905</td>\n",
       "      <td>2333.0</td>\n",
       "      <td>0.0</td>\n",
       "      <td>1840.0</td>\n",
       "      <td>1000</td>\n",
       "      <td>469</td>\n",
       "    </tr>\n",
       "    <tr>\n",
       "      <th>Saint Lucia</th>\n",
       "      <td>7233714</td>\n",
       "      <td>3071.0</td>\n",
       "      <td>0.0</td>\n",
       "      <td>2655.0</td>\n",
       "      <td>1103</td>\n",
       "      <td>485</td>\n",
       "    </tr>\n",
       "    <tr>\n",
       "      <th>Saint Vincent and the Grenadines</th>\n",
       "      <td>7234009</td>\n",
       "      <td>4640.0</td>\n",
       "      <td>0.0</td>\n",
       "      <td>3684.0</td>\n",
       "      <td>1179</td>\n",
       "      <td>510</td>\n",
       "    </tr>\n",
       "    <tr>\n",
       "      <th>Seychelles</th>\n",
       "      <td>7234617</td>\n",
       "      <td>8133.0</td>\n",
       "      <td>0.0</td>\n",
       "      <td>4854.0</td>\n",
       "      <td>1138</td>\n",
       "      <td>494</td>\n",
       "    </tr>\n",
       "    <tr>\n",
       "      <th>Timor-Leste</th>\n",
       "      <td>7185258</td>\n",
       "      <td>3316.0</td>\n",
       "      <td>0.0</td>\n",
       "      <td>2905.0</td>\n",
       "      <td>1051</td>\n",
       "      <td>470</td>\n",
       "    </tr>\n",
       "  </tbody>\n",
       "</table>\n",
       "</div>"
      ],
      "text/plain": [
       "                                      SNo  Confirmed  Deaths  Recovered  \\\n",
       "Country/Region                                                            \n",
       "Bhutan                            7251693     9320.0     0.0     6199.0   \n",
       "Cambodia                          7316256    25630.0     0.0    21357.0   \n",
       "Dominica                          7167098     2667.0     0.0     2253.0   \n",
       "Eritrea                           7175654    21415.0     0.0    13921.0   \n",
       "French Guiana                       78532      117.0     0.0        6.0   \n",
       "Grenada                           7170048     3256.0     0.0     2620.0   \n",
       "Guadeloupe                          57307      187.0     0.0        0.0   \n",
       "Holy See                          7243661     1748.0     0.0     1138.0   \n",
       "Laos                              7158244     2921.0     0.0     2181.0   \n",
       "Macau                             7368772     7731.0     0.0     6367.0   \n",
       "Mongolia                          7249663    26762.0     0.0    18672.0   \n",
       "Reunion                             67279      137.0     0.0        0.0   \n",
       "Saint Kitts and Nevis             7156905     2333.0     0.0     1840.0   \n",
       "Saint Lucia                       7233714     3071.0     0.0     2655.0   \n",
       "Saint Vincent and the Grenadines  7234009     4640.0     0.0     3684.0   \n",
       "Seychelles                        7234617     8133.0     0.0     4854.0   \n",
       "Timor-Leste                       7185258     3316.0     0.0     2905.0   \n",
       "\n",
       "                                  Last Update_Hour  weekday  \n",
       "Country/Region                                               \n",
       "Bhutan                                        1336      532  \n",
       "Cambodia                                      1572      628  \n",
       "Dominica                                      1051      470  \n",
       "Eritrea                                       1072      475  \n",
       "French Guiana                                  128       46  \n",
       "Grenada                                       1051      470  \n",
       "Guadeloupe                                     110       25  \n",
       "Holy See                                      1304      507  \n",
       "Laos                                          1023      470  \n",
       "Macau                                         1769      647  \n",
       "Mongolia                                      1215      499  \n",
       "Reunion                                        160       32  \n",
       "Saint Kitts and Nevis                         1000      469  \n",
       "Saint Lucia                                   1103      485  \n",
       "Saint Vincent and the Grenadines              1179      510  \n",
       "Seychelles                                    1138      494  \n",
       "Timor-Leste                                   1051      470  "
      ]
     },
     "execution_count": 37,
     "metadata": {},
     "output_type": "execute_result"
    }
   ],
   "source": [
    "# Countries with more than 100 Confirmed Cases and No Deaths with considerably high Recovery Rate\n",
    "country = data.groupby(data['Country/Region']).sum()\n",
    "\n",
    "print('There are',country.loc[(country['Confirmed'] > 100) & (country['Deaths'] == 0)]['SNo'].count(),'countries with more than 100 Confirmed Cases and No Deaths')\n",
    "country.loc[(country['Confirmed'] > 100) & (country['Deaths'] == 0)]"
   ]
  }
 ],
 "metadata": {
  "kernelspec": {
   "display_name": "Python 3 (ipykernel)",
   "language": "python",
   "name": "python3"
  },
  "language_info": {
   "codemirror_mode": {
    "name": "ipython",
    "version": 3
   },
   "file_extension": ".py",
   "mimetype": "text/x-python",
   "name": "python",
   "nbconvert_exporter": "python",
   "pygments_lexer": "ipython3",
   "version": "3.11.1"
  }
 },
 "nbformat": 4,
 "nbformat_minor": 5
}
